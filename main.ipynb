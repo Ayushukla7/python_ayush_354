{
 "cells": [
  {
   "cell_type": "markdown",
   "id": "972adb33",
   "metadata": {},
   "source": [
    "## Unit 1"
   ]
  },
  {
   "cell_type": "markdown",
   "id": "37302dd9",
   "metadata": {},
   "source": [
    "## Day 1"
   ]
  },
  {
   "cell_type": "code",
   "execution_count": 1,
   "id": "250f57cf",
   "metadata": {},
   "outputs": [
    {
     "name": "stdout",
     "output_type": "stream",
     "text": [
      "hello world\n"
     ]
    }
   ],
   "source": [
    "print (\"hello world\" )"
   ]
  },
  {
   "cell_type": "markdown",
   "id": "0b43b4a7",
   "metadata": {},
   "source": [
    "## Day 2"
   ]
  },
  {
   "cell_type": "code",
   "execution_count": 2,
   "id": "9c69512e",
   "metadata": {},
   "outputs": [
    {
     "name": "stdout",
     "output_type": "stream",
     "text": [
      "13\n",
      "140705874212072\n",
      "140705874211784\n",
      "10\n",
      "10\n",
      "10\n",
      "10 20 30\n",
      "140705874212040\n",
      "140705874212360\n",
      "140705874212680\n",
      "apple\n",
      "banana\n",
      "cherry\n",
      "Python is awesome\n"
     ]
    }
   ],
   "source": [
    "a=11\n",
    "b=2\n",
    "print(a+b)\n",
    "\n",
    "print(id(a))\n",
    "\n",
    "print(id(b))\n",
    "\n",
    "# Camel case\n",
    "myVariableName=10\n",
    "print(myVariableName)\n",
    "\n",
    "# Snake case\n",
    "my_variable_name=10\n",
    "print(my_variable_name)\n",
    "\n",
    "# Pascal case\n",
    "MyVariableName=10 \n",
    "print(MyVariableName)\n",
    "\n",
    "# Many value to multiple variables\n",
    "x,y,z=10,20,30\n",
    "print(x,y,z)\n",
    "print(id(x))\n",
    "print(id(y))  \n",
    "print(id(z))\n",
    "\n",
    "\n",
    "\n",
    "# Unpack a collection\n",
    "fruits=[\"apple\",\"banana\",\"cherry\"]\n",
    "x,y,z=fruits\n",
    "print(x)    \n",
    "print(y)\n",
    "print(z)\n",
    "\n",
    "\n",
    "\n",
    "# Global variable\n",
    "x=\"awesome\"\n",
    "def myfunc():\n",
    "    print(\"Python is \"+x)\n",
    "myfunc()"
   ]
  },
  {
   "cell_type": "markdown",
   "id": "1d888a1d",
   "metadata": {},
   "source": [
    "## Day3"
   ]
  },
  {
   "cell_type": "code",
   "execution_count": 3,
   "id": "5ff5873e",
   "metadata": {},
   "outputs": [
    {
     "name": "stdout",
     "output_type": "stream",
     "text": [
      "Hello, W\n"
     ]
    }
   ],
   "source": [
    "## slice from start\n",
    "b=\"Hello, World!\"\n",
    "print(b[:8])"
   ]
  },
  {
   "cell_type": "code",
   "execution_count": 4,
   "id": "d31df6d3",
   "metadata": {},
   "outputs": [
    {
     "name": "stdout",
     "output_type": "stream",
     "text": [
      "llo, World!\n"
     ]
    }
   ],
   "source": [
    "## slice from end\n",
    "b=\"Hello, World!\"\n",
    "print(b[2:])"
   ]
  },
  {
   "cell_type": "code",
   "execution_count": 5,
   "id": "ee9257a5",
   "metadata": {},
   "outputs": [
    {
     "name": "stdout",
     "output_type": "stream",
     "text": [
      "orl\n"
     ]
    }
   ],
   "source": [
    "## negative indexing\n",
    "b=\"Hello, World!\"\n",
    "print(b[-5:-2])"
   ]
  },
  {
   "cell_type": "code",
   "execution_count": 6,
   "id": "534031eb",
   "metadata": {},
   "outputs": [
    {
     "name": "stdout",
     "output_type": "stream",
     "text": [
      "HELLO WORLD\n",
      "hello world\n",
      "hello world\n"
     ]
    }
   ],
   "source": [
    "##upper case\n",
    "a=\"hello world\" \n",
    "print(a.upper())\n",
    "##lower case\n",
    "a=\"HELLO WORLD\"\n",
    "print(a.lower())            \n",
    "##remove whitespace\n",
    "a=\" hello world \"\n",
    "print(a.strip())\n"
   ]
  },
  {
   "cell_type": "markdown",
   "id": "8392bd89",
   "metadata": {},
   "source": [
    "## Unit2\n"
   ]
  },
  {
   "cell_type": "code",
   "execution_count": null,
   "id": "53f60c5d",
   "metadata": {},
   "outputs": [],
   "source": [
    "a=int(input(\"Enter first number: \"))\n",
    "print(a)\n",
    "b=int(input(\"Enter second number: \"))\n",
    "print(b)\n",
    "\n",
    "#if (a>b):\n",
    "#    print(\"a is greater than b\")\n",
    "#elif (b>a):\n",
    "#    print(\"b is greater than a\")\n",
    "#else:\n",
    "#    print(\"a is equal to b\")   \n",
    "\n",
    "print(\"a\") if a>b else print(\"b\")"
   ]
  },
  {
   "cell_type": "markdown",
   "id": "7f93a643",
   "metadata": {},
   "source": [
    "## Day4"
   ]
  },
  {
   "cell_type": "markdown",
   "id": "73683ad1",
   "metadata": {},
   "source": [
    "## match case"
   ]
  },
  {
   "cell_type": "code",
   "execution_count": null,
   "id": "167405b7",
   "metadata": {},
   "outputs": [
    {
     "name": "stdout",
     "output_type": "stream",
     "text": [
      "Saturday\n"
     ]
    }
   ],
   "source": [
    "match=5 #swich case in other languages like c,java\n",
    "day =6\n",
    "match day:\n",
    "    case 1:\n",
    "        print(\"Monday\")\n",
    "    case 2:\n",
    "        print(\"Tuesday\")\n",
    "    case 3:\n",
    "        print(\"Wednesday\")\n",
    "    case 4:\n",
    "        print(\"Thursday\")\n",
    "    case 5:\n",
    "        print(\"Friday\")\n",
    "    case 6:\n",
    "        print(\"Saturday\")\n",
    "    case 7:\n",
    "        print(\"Sunday\")\n",
    "    case _:\n",
    "        print(\"Invalid day\")\n",
    "\n",
    "\n",
    "#while loop\n",
    "\n",
    "\n",
    "\n"
   ]
  },
  {
   "cell_type": "markdown",
   "id": "e800b179",
   "metadata": {},
   "source": [
    "## question"
   ]
  },
  {
   "cell_type": "code",
   "execution_count": null,
   "id": "26bf3090",
   "metadata": {},
   "outputs": [],
   "source": [
    "#sqare of a number\n",
    "\n",
    "def square(num):\n",
    "    return num*num  \n",
    "print(square(5))"
   ]
  },
  {
   "cell_type": "code",
   "execution_count": null,
   "id": "8e3f73ad",
   "metadata": {},
   "outputs": [],
   "source": [
    "#two numbers input and add\n",
    "def add(a,b):\n",
    "    return a+b\n",
    "    print(add(5,10))   \n",
    "    \n"
   ]
  },
  {
   "cell_type": "code",
   "execution_count": null,
   "id": "7a25492b",
   "metadata": {},
   "outputs": [],
   "source": [
    "#swap two numbers\n",
    "def swap(x,y):\n",
    "    temp=x\n",
    "    x=y\n",
    "    y=temp\n",
    "    return x,y"
   ]
  },
  {
   "cell_type": "code",
   "execution_count": null,
   "id": "57f26bd9",
   "metadata": {},
   "outputs": [
    {
     "name": "stdout",
     "output_type": "stream",
     "text": [
      "Too high\n"
     ]
    }
   ],
   "source": [
    "#number guess game\n",
    "import random\n",
    "number=random.randint(1,10)\n",
    "guess=None\n",
    "while guess!=number:\n",
    "    guess=int(input(\"Enter your guess: \"))\n",
    "    if guess<number:\n",
    "        print(\"Too low\")\n",
    "    elif guess>number:\n",
    "        print(\"Too high\")\n",
    "    else:\n",
    "        print(\"You guessed it right!\")\n"
   ]
  },
  {
   "cell_type": "code",
   "execution_count": 2,
   "id": "64d1483e",
   "metadata": {},
   "outputs": [],
   "source": [
    "#even or odd\n",
    "def even_odd(num):\n",
    "    if num%2==0:\n",
    "        return \"Even\"\n",
    "    else:\n",
    "        return \"Odd\""
   ]
  },
  {
   "cell_type": "markdown",
   "id": "512f82a6",
   "metadata": {},
   "source": [
    "## while"
   ]
  },
  {
   "cell_type": "code",
   "execution_count": 1,
   "id": "bc09aa7f",
   "metadata": {},
   "outputs": [
    {
     "name": "stdout",
     "output_type": "stream",
     "text": [
      "apple\n",
      "banana\n",
      "cherry\n",
      "apple\n",
      "banana\n",
      "cherry\n"
     ]
    }
   ],
   "source": [
    "#fruit list\n",
    "fruits=[\"apple\",\"banana\",\"cherry\"]\n",
    "for fruit in fruits:\n",
    "    print(fruit)\n",
    "for index in range(len(fruits)):\n",
    "    print(fruits[index])\n",
    "    "
   ]
  },
  {
   "cell_type": "markdown",
   "id": "0ff34ad6",
   "metadata": {},
   "source": [
    "## List"
   ]
  },
  {
   "cell_type": "code",
   "execution_count": 1,
   "id": "4778999e",
   "metadata": {},
   "outputs": [
    {
     "name": "stdout",
     "output_type": "stream",
     "text": [
      "6\n",
      "1\n",
      "apple\n",
      "[1, 3, 'rohan']\n",
      "[3, 'rohan', 'apple']\n",
      "yes\n",
      "['ram', 1, 3, 'rohan', 'apple', 'apple']\n",
      "['ram', 5, 6, 'rohan', 'apple', 'apple']\n"
     ]
    }
   ],
   "source": [
    "list1 = [\"rohan\",3]\n",
    "list1 = [\"rohan\",1,3,\"rohan\",\"apple\",\"apple\"]\n",
    "print(len(list1))\n",
    "#constructor\n",
    "list2=list((\"rohan\",1,3,\"rohan\",\"apple\",\"apple\"))\n",
    "#access item in list\n",
    "print(list1[1])\n",
    "#negative indexing\n",
    "print(list1[-1])\n",
    "#range of index\n",
    "print(list1[1:4])\n",
    "#range of negative index\n",
    "print(list1[-4:-1])\n",
    "#check if item exists\n",
    "if \"rohan\" in list1:\n",
    "    print(\"yes\")\n",
    "#change list item\n",
    "list1[0]=\"ram\"\n",
    "print(list1)\n",
    "#change range of list\n",
    "list1[1:3]=[5,6]\n",
    "print(list1)"
   ]
  }
 ],
 "metadata": {
  "kernelspec": {
   "display_name": "Python 3",
   "language": "python",
   "name": "python3"
  },
  "language_info": {
   "codemirror_mode": {
    "name": "ipython",
    "version": 3
   },
   "file_extension": ".py",
   "mimetype": "text/x-python",
   "name": "python",
   "nbconvert_exporter": "python",
   "pygments_lexer": "ipython3",
   "version": "3.13.7"
  }
 },
 "nbformat": 4,
 "nbformat_minor": 5
}
