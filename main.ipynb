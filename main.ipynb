{
 "cells": [
  {
   "cell_type": "markdown",
   "id": "37302dd9",
   "metadata": {},
   "source": [
    "## Day 1"
   ]
  },
  {
   "cell_type": "code",
   "execution_count": 3,
   "id": "250f57cf",
   "metadata": {},
   "outputs": [
    {
     "name": "stdout",
     "output_type": "stream",
     "text": [
      "hello world\n"
     ]
    }
   ],
   "source": [
    "print (\"hello world\" )"
   ]
  },
  {
   "cell_type": "markdown",
   "id": "0b43b4a7",
   "metadata": {},
   "source": [
    "## Day 2"
   ]
  },
  {
   "cell_type": "code",
   "execution_count": null,
   "id": "9c69512e",
   "metadata": {},
   "outputs": [
    {
     "name": "stdout",
     "output_type": "stream",
     "text": [
      "13\n",
      "140707827381480\n",
      "140707827381192\n",
      "10\n",
      "10\n",
      "10\n",
      "10 20 30\n",
      "140707827381448\n",
      "140707827381768\n",
      "140707827382088\n",
      "apple\n",
      "banana\n",
      "cherry\n",
      "Python is awesome\n"
     ]
    }
   ],
   "source": [
    "a=11\n",
    "b=2\n",
    "print(a+b)\n",
    "\n",
    "print(id(a))\n",
    "\n",
    "print(id(b))\n",
    "\n",
    "# Camel case\n",
    "myVariableName=10\n",
    "print(myVariableName)\n",
    "\n",
    "# Snake case\n",
    "my_variable_name=10\n",
    "print(my_variable_name)\n",
    "\n",
    "# Pascal case\n",
    "MyVariableName=10 \n",
    "print(MyVariableName)\n",
    "\n",
    "# Many value to multiple variables\n",
    "x,y,z=10,20,30\n",
    "print(x,y,z)\n",
    "print(id(x))\n",
    "print(id(y))  \n",
    "print(id(z))\n",
    "\n",
    "\n",
    "\n",
    "# Unpack a collection\n",
    "fruits=[\"apple\",\"banana\",\"cherry\"]\n",
    "x,y,z=fruits\n",
    "print(x)    \n",
    "print(y)\n",
    "print(z)\n",
    "\n",
    "\n",
    "\n",
    "# Global variable\n",
    "x=\"awesome\"\n",
    "def myfunc():\n",
    "    print(\"Python is \"+x)\n",
    "myfunc()"
   ]
  }
 ],
 "metadata": {
  "kernelspec": {
   "display_name": "Python 3",
   "language": "python",
   "name": "python3"
  },
  "language_info": {
   "codemirror_mode": {
    "name": "ipython",
    "version": 3
   },
   "file_extension": ".py",
   "mimetype": "text/x-python",
   "name": "python",
   "nbconvert_exporter": "python",
   "pygments_lexer": "ipython3",
   "version": "3.13.7"
  }
 },
 "nbformat": 4,
 "nbformat_minor": 5
}
