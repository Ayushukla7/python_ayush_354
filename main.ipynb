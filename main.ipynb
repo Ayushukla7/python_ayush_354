{
 "cells": [
  {
   "cell_type": "markdown",
   "id": "972adb33",
   "metadata": {},
   "source": [
    "## Unit 1"
   ]
  },
  {
   "cell_type": "markdown",
   "id": "37302dd9",
   "metadata": {},
   "source": [
    "## Day 1"
   ]
  },
  {
   "cell_type": "code",
   "execution_count": 1,
   "id": "250f57cf",
   "metadata": {},
   "outputs": [
    {
     "name": "stdout",
     "output_type": "stream",
     "text": [
      "hello world\n"
     ]
    }
   ],
   "source": [
    "print (\"hello world\" )"
   ]
  },
  {
   "cell_type": "markdown",
   "id": "0b43b4a7",
   "metadata": {},
   "source": [
    "## Day 2"
   ]
  },
  {
   "cell_type": "code",
   "execution_count": 2,
   "id": "9c69512e",
   "metadata": {},
   "outputs": [
    {
     "name": "stdout",
     "output_type": "stream",
     "text": [
      "13\n",
      "140705874212072\n",
      "140705874211784\n",
      "10\n",
      "10\n",
      "10\n",
      "10 20 30\n",
      "140705874212040\n",
      "140705874212360\n",
      "140705874212680\n",
      "apple\n",
      "banana\n",
      "cherry\n",
      "Python is awesome\n"
     ]
    }
   ],
   "source": [
    "a=11\n",
    "b=2\n",
    "print(a+b)\n",
    "\n",
    "print(id(a))\n",
    "\n",
    "print(id(b))\n",
    "\n",
    "# Camel case\n",
    "myVariableName=10\n",
    "print(myVariableName)\n",
    "\n",
    "# Snake case\n",
    "my_variable_name=10\n",
    "print(my_variable_name)\n",
    "\n",
    "# Pascal case\n",
    "MyVariableName=10 \n",
    "print(MyVariableName)\n",
    "\n",
    "# Many value to multiple variables\n",
    "x,y,z=10,20,30\n",
    "print(x,y,z)\n",
    "print(id(x))\n",
    "print(id(y))  \n",
    "print(id(z))\n",
    "\n",
    "\n",
    "\n",
    "# Unpack a collection\n",
    "fruits=[\"apple\",\"banana\",\"cherry\"]\n",
    "x,y,z=fruits\n",
    "print(x)    \n",
    "print(y)\n",
    "print(z)\n",
    "\n",
    "\n",
    "\n",
    "# Global variable\n",
    "x=\"awesome\"\n",
    "def myfunc():\n",
    "    print(\"Python is \"+x)\n",
    "myfunc()"
   ]
  },
  {
   "cell_type": "markdown",
   "id": "1d888a1d",
   "metadata": {},
   "source": [
    "## Day3"
   ]
  },
  {
   "cell_type": "code",
   "execution_count": 3,
   "id": "5ff5873e",
   "metadata": {},
   "outputs": [
    {
     "name": "stdout",
     "output_type": "stream",
     "text": [
      "Hello, W\n"
     ]
    }
   ],
   "source": [
    "## slice from start\n",
    "b=\"Hello, World!\"\n",
    "print(b[:8])"
   ]
  },
  {
   "cell_type": "code",
   "execution_count": 4,
   "id": "d31df6d3",
   "metadata": {},
   "outputs": [
    {
     "name": "stdout",
     "output_type": "stream",
     "text": [
      "llo, World!\n"
     ]
    }
   ],
   "source": [
    "## slice from end\n",
    "b=\"Hello, World!\"\n",
    "print(b[2:])"
   ]
  },
  {
   "cell_type": "code",
   "execution_count": 5,
   "id": "ee9257a5",
   "metadata": {},
   "outputs": [
    {
     "name": "stdout",
     "output_type": "stream",
     "text": [
      "orl\n"
     ]
    }
   ],
   "source": [
    "## negative indexing\n",
    "b=\"Hello, World!\"\n",
    "print(b[-5:-2])"
   ]
  },
  {
   "cell_type": "code",
   "execution_count": 6,
   "id": "534031eb",
   "metadata": {},
   "outputs": [
    {
     "name": "stdout",
     "output_type": "stream",
     "text": [
      "HELLO WORLD\n",
      "hello world\n",
      "hello world\n"
     ]
    }
   ],
   "source": [
    "##upper case\n",
    "a=\"hello world\" \n",
    "print(a.upper())\n",
    "##lower case\n",
    "a=\"HELLO WORLD\"\n",
    "print(a.lower())            \n",
    "##remove whitespace\n",
    "a=\" hello world \"\n",
    "print(a.strip())\n"
   ]
  },
  {
   "cell_type": "markdown",
   "id": "8392bd89",
   "metadata": {},
   "source": [
    "## Unit2\n"
   ]
  },
  {
   "cell_type": "code",
   "execution_count": null,
   "id": "53f60c5d",
   "metadata": {},
   "outputs": [],
   "source": [
    "a=int(input(\"Enter first number: \"))\n",
    "print(a)\n",
    "b=int(input(\"Enter second number: \"))\n",
    "print(b)\n",
    "\n",
    "#if (a>b):\n",
    "#    print(\"a is greater than b\")\n",
    "#elif (b>a):\n",
    "#    print(\"b is greater than a\")\n",
    "#else:\n",
    "#    print(\"a is equal to b\")   \n",
    "\n",
    "print(\"a\") if a>b else print(\"b\")"
   ]
  }
 ],
 "metadata": {
  "kernelspec": {
   "display_name": "Python 3",
   "language": "python",
   "name": "python3"
  },
  "language_info": {
   "codemirror_mode": {
    "name": "ipython",
    "version": 3
   },
   "file_extension": ".py",
   "mimetype": "text/x-python",
   "name": "python",
   "nbconvert_exporter": "python",
   "pygments_lexer": "ipython3",
   "version": "3.13.7"
  }
 },
 "nbformat": 4,
 "nbformat_minor": 5
}
